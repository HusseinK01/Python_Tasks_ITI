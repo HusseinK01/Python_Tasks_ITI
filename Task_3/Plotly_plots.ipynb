{
 "cells": [
  {
   "cell_type": "code",
   "execution_count": 11,
   "metadata": {},
   "outputs": [
    {
     "data": {
      "text/html": [
       "        <script type=\"text/javascript\">\n",
       "        window.PlotlyConfig = {MathJaxConfig: 'local'};\n",
       "        if (window.MathJax && window.MathJax.Hub && window.MathJax.Hub.Config) {window.MathJax.Hub.Config({SVG: {font: \"STIX-Web\"}});}\n",
       "        if (typeof require !== 'undefined') {\n",
       "        require.undef(\"plotly\");\n",
       "        requirejs.config({\n",
       "            paths: {\n",
       "                'plotly': ['https://cdn.plot.ly/plotly-2.32.0.min']\n",
       "            }\n",
       "        });\n",
       "        require(['plotly'], function(Plotly) {\n",
       "            window._Plotly = Plotly;\n",
       "        });\n",
       "        }\n",
       "        </script>\n",
       "        "
      ]
     },
     "metadata": {},
     "output_type": "display_data"
    }
   ],
   "source": [
    "from plotly.offline import init_notebook_mode, iplot\n",
    "import pandas as pd\n",
    "init_notebook_mode(connected=True)"
   ]
  },
  {
   "cell_type": "code",
   "execution_count": 12,
   "metadata": {},
   "outputs": [
    {
     "name": "stdout",
     "output_type": "stream",
     "text": [
      "<class 'pandas.core.frame.DataFrame'>\n",
      "RangeIndex: 129971 entries, 0 to 129970\n",
      "Data columns (total 14 columns):\n",
      " #   Column                 Non-Null Count   Dtype  \n",
      "---  ------                 --------------   -----  \n",
      " 0   Unnamed: 0             129971 non-null  int64  \n",
      " 1   country                129908 non-null  object \n",
      " 2   description            129971 non-null  object \n",
      " 3   designation            92506 non-null   object \n",
      " 4   points                 129971 non-null  int64  \n",
      " 5   price                  120975 non-null  float64\n",
      " 6   province               129908 non-null  object \n",
      " 7   region_1               108724 non-null  object \n",
      " 8   region_2               50511 non-null   object \n",
      " 9   taster_name            103727 non-null  object \n",
      " 10  taster_twitter_handle  98758 non-null   object \n",
      " 11  title                  129971 non-null  object \n",
      " 12  variety                129970 non-null  object \n",
      " 13  winery                 129971 non-null  object \n",
      "dtypes: float64(1), int64(2), object(11)\n",
      "memory usage: 13.9+ MB\n"
     ]
    }
   ],
   "source": [
    "df = pd.read_csv(\"data/winemag-data-130k-v2.csv.zip\")\n",
    "df.info()"
   ]
  },
  {
   "cell_type": "code",
   "execution_count": 14,
   "metadata": {},
   "outputs": [
    {
     "data": {
      "text/plain": [
       "'scatter_plot.html'"
      ]
     },
     "execution_count": 14,
     "metadata": {},
     "output_type": "execute_result"
    }
   ],
   "source": [
    "import plotly.offline as offline\n",
    "\n",
    "# Scatter plot\n",
    "scatter_plot = go.Scatter(x=df['points'], y=df['price'], mode='markers', marker=dict(color='blue', size=5))\n",
    "\n",
    "layout = go.Layout(title='Wine Reviews - Scatter Plot', xaxis=dict(title='Points'), yaxis=dict(title='Price'))\n",
    "\n",
    "fig = go.Figure(data=[scatter_plot], layout=layout)\n",
    "offline.plot(fig, filename='scatter_plot.html', auto_open=False)\n"
   ]
  },
  {
   "cell_type": "code",
   "execution_count": 15,
   "metadata": {},
   "outputs": [
    {
     "data": {
      "text/plain": [
       "'choropleth_plot.html'"
      ]
     },
     "execution_count": 15,
     "metadata": {},
     "output_type": "execute_result"
    }
   ],
   "source": [
    "import plotly.express as px\n",
    "\n",
    "# Count the number of reviews per country\n",
    "country_counts = df['country'].value_counts().reset_index()\n",
    "country_counts.columns = ['country', 'count']\n",
    "\n",
    "# Plot choropleth map\n",
    "fig = px.choropleth(country_counts, \n",
    "                    locations='country', \n",
    "                    locationmode='country names',\n",
    "                    color='count', \n",
    "                    hover_name='country', \n",
    "                    color_continuous_scale='Viridis',\n",
    "                    title='Wine Reviews by Country')\n",
    "fig.update_layout(geo=dict(showcoastlines=True))\n",
    "offline.plot(fig, filename='choropleth_plot.html', auto_open=False)\n"
   ]
  },
  {
   "cell_type": "code",
   "execution_count": 16,
   "metadata": {},
   "outputs": [
    {
     "data": {
      "text/plain": [
       "'heatmap_plot.html'"
      ]
     },
     "execution_count": 16,
     "metadata": {},
     "output_type": "execute_result"
    }
   ],
   "source": [
    "import numpy as np\n",
    "\n",
    "# Calculate average points and prices for each combination of country and variety\n",
    "heatmap_data = df.groupby(['country', 'variety']).agg({'points': 'mean', 'price': 'mean'}).reset_index()\n",
    "\n",
    "# Pivot the data for heatmap\n",
    "heatmap_data_pivot = heatmap_data.pivot(index='variety', columns='country', values='points')\n",
    "\n",
    "# Plot heatmap\n",
    "heatmap_fig = go.Figure(data=go.Heatmap(\n",
    "        z=heatmap_data_pivot.values,\n",
    "        x=heatmap_data_pivot.columns,\n",
    "        y=heatmap_data_pivot.index,\n",
    "        colorscale='Viridis'))\n",
    "\n",
    "heatmap_fig.update_layout(title='Average Points by Country and Variety',\n",
    "                          xaxis=dict(title='Country'),\n",
    "                          yaxis=dict(title='Variety'))\n",
    "offline.plot(heatmap_fig, filename='heatmap_plot.html', auto_open=False)\n"
   ]
  },
  {
   "cell_type": "code",
   "execution_count": 17,
   "metadata": {},
   "outputs": [
    {
     "data": {
      "text/plain": [
       "'surface_plot.html'"
      ]
     },
     "execution_count": 17,
     "metadata": {},
     "output_type": "execute_result"
    }
   ],
   "source": [
    "# Plot surface plot\n",
    "surface_fig = go.Figure(data=[go.Surface(z=heatmap_data_pivot.values,\n",
    "                                         x=heatmap_data_pivot.columns,\n",
    "                                         y=heatmap_data_pivot.index,\n",
    "                                         colorscale='Viridis')])\n",
    "surface_fig.update_layout(title='Surface Plot of Points by Country and Variety',\n",
    "                          scene=dict(xaxis_title='Country',\n",
    "                                     yaxis_title='Variety',\n",
    "                                     zaxis_title='Points'))\n",
    "offline.plot(surface_fig, filename='surface_plot.html', auto_open=False)\n"
   ]
  },
  {
   "cell_type": "code",
   "execution_count": null,
   "metadata": {},
   "outputs": [],
   "source": []
  }
 ],
 "metadata": {
  "kernelspec": {
   "display_name": "Python 3",
   "language": "python",
   "name": "python3"
  },
  "language_info": {
   "codemirror_mode": {
    "name": "ipython",
    "version": 3
   },
   "file_extension": ".py",
   "mimetype": "text/x-python",
   "name": "python",
   "nbconvert_exporter": "python",
   "pygments_lexer": "ipython3",
   "version": "3.11.3"
  }
 },
 "nbformat": 4,
 "nbformat_minor": 2
}
